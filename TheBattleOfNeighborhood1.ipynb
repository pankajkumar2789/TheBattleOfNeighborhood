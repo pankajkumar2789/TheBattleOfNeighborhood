{
    "nbformat_minor": 2, 
    "cells": [
        {
            "source": "# NEW INDIAN RESTAURANT IN WORLD'S TOP BUSINESS CENTERS\n__ __", 
            "cell_type": "markdown", 
            "metadata": {}
        }, 
        {
            "source": "# Introduction", 
            "cell_type": "markdown", 
            "metadata": {}
        }, 
        {
            "source": "__This report is for those who are planning to start a new business in worlds top business centers like Toronto or San Francisco. Suggestions will be based on all the factors need to be considered while starting a new venture.__\n", 
            "cell_type": "markdown", 
            "metadata": {}
        }, 
        {
            "source": "# Business Problem\n\n##### The report will focus on problems one might face while opening a new business in world's top business center. There are many factors need to be considered while opening new business. Location of business will be the first and foremost important point to be decided.\n\n#### __While deciding the location of business, key questions need to be answered are:-__\n###### 1. On what basis top business cities will be selected? \n###### 2. On what basis businesse location can be decided? \n###### 3. Does Lalit want to rent the place or can he afford to buy it? \n\n##### __Key Points to be considered:__\n###### 1. Where are top business cities?\n###### 2. What are prime location for business?\n###### 3. How many Indian Restaurants are there in particular location ? \n###### 5. What are their ratings? \n###### 6. What are the factors that will help Lalit to run his business above average rating?\n\n##### __Out of scope for this project:__  \n###### 1. Budget for running the business 2. Employee salary 3. Promotional factors\n\n", 
            "cell_type": "markdown", 
            "metadata": {}
        }, 
        {
            "execution_count": null, 
            "cell_type": "code", 
            "metadata": {}, 
            "outputs": [], 
            "source": ""
        }
    ], 
    "metadata": {
        "kernelspec": {
            "display_name": "Python 3.5", 
            "name": "python3", 
            "language": "python"
        }, 
        "language_info": {
            "mimetype": "text/x-python", 
            "nbconvert_exporter": "python", 
            "version": "3.5.5", 
            "name": "python", 
            "file_extension": ".py", 
            "pygments_lexer": "ipython3", 
            "codemirror_mode": {
                "version": 3, 
                "name": "ipython"
            }
        }
    }, 
    "nbformat": 4
}